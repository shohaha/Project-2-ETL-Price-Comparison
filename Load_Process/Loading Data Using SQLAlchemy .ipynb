{
 "cells": [
  {
   "cell_type": "markdown",
   "id": "3809f09e",
   "metadata": {},
   "source": [
    "## Dependancies"
   ]
  },
  {
   "cell_type": "code",
   "execution_count": 1,
   "id": "0b05e345",
   "metadata": {},
   "outputs": [],
   "source": [
    "import pandas as pd\n",
    "from sqlalchemy import create_engine\n",
    "import psycopg2"
   ]
  },
  {
   "cell_type": "markdown",
   "id": "c1bfd371",
   "metadata": {},
   "source": [
    "## Import Clean Datasets"
   ]
  },
  {
   "cell_type": "code",
   "execution_count": 2,
   "id": "e854d2fd",
   "metadata": {},
   "outputs": [],
   "source": [
    "very_products_df = pd.read_csv(\"../Clean_Datasets/All_Very_Products.csv\")\n",
    "currys_products_df = pd.read_csv(\"../Clean_Datasets/All_Currys_Products.csv\")"
   ]
  },
  {
   "cell_type": "code",
   "execution_count": 3,
   "id": "298701cd",
   "metadata": {},
   "outputs": [],
   "source": [
    "# View datasets"
   ]
  },
  {
   "cell_type": "markdown",
   "id": "3c132b6b",
   "metadata": {},
   "source": [
    "#### Very Products"
   ]
  },
  {
   "cell_type": "code",
   "execution_count": 4,
   "id": "ab4e2a84",
   "metadata": {},
   "outputs": [
    {
     "data": {
      "text/html": [
       "<div>\n",
       "<style scoped>\n",
       "    .dataframe tbody tr th:only-of-type {\n",
       "        vertical-align: middle;\n",
       "    }\n",
       "\n",
       "    .dataframe tbody tr th {\n",
       "        vertical-align: top;\n",
       "    }\n",
       "\n",
       "    .dataframe thead th {\n",
       "        text-align: right;\n",
       "    }\n",
       "</style>\n",
       "<table border=\"1\" class=\"dataframe\">\n",
       "  <thead>\n",
       "    <tr style=\"text-align: right;\">\n",
       "      <th></th>\n",
       "      <th>product_name</th>\n",
       "      <th>category</th>\n",
       "      <th>price</th>\n",
       "      <th>customer_rating</th>\n",
       "      <th>rating_count</th>\n",
       "    </tr>\n",
       "  </thead>\n",
       "  <tbody>\n",
       "    <tr>\n",
       "      <th>0</th>\n",
       "      <td>HISENSE 55A7GQTUK 55\" Smart 4K Ultra HD HDR QL...</td>\n",
       "      <td>TV</td>\n",
       "      <td>449.0</td>\n",
       "      <td>4.6</td>\n",
       "      <td>115.0</td>\n",
       "    </tr>\n",
       "    <tr>\n",
       "      <th>1</th>\n",
       "      <td>LG OLED83C14LA 83\" Smart 4K Ultra HD HDR OLED ...</td>\n",
       "      <td>TV</td>\n",
       "      <td>3999.0</td>\n",
       "      <td>4.8</td>\n",
       "      <td>284.0</td>\n",
       "    </tr>\n",
       "    <tr>\n",
       "      <th>2</th>\n",
       "      <td>LG OLED65C14LB 65\" Smart 4K Ultra HD HDR OLED ...</td>\n",
       "      <td>TV</td>\n",
       "      <td>1399.0</td>\n",
       "      <td>4.8</td>\n",
       "      <td>445.0</td>\n",
       "    </tr>\n",
       "    <tr>\n",
       "      <th>3</th>\n",
       "      <td>LG OLED55A16LA 55\" Smart 4K Ultra HD HDR OLED ...</td>\n",
       "      <td>TV</td>\n",
       "      <td>719.0</td>\n",
       "      <td>4.8</td>\n",
       "      <td>197.0</td>\n",
       "    </tr>\n",
       "    <tr>\n",
       "      <th>4</th>\n",
       "      <td>HISENSE 50A6GTUK 50\" Smart 4K Ultra HD HDR LED...</td>\n",
       "      <td>TV</td>\n",
       "      <td>279.0</td>\n",
       "      <td>4.5</td>\n",
       "      <td>77.0</td>\n",
       "    </tr>\n",
       "    <tr>\n",
       "      <th>...</th>\n",
       "      <td>...</td>\n",
       "      <td>...</td>\n",
       "      <td>...</td>\n",
       "      <td>...</td>\n",
       "      <td>...</td>\n",
       "    </tr>\n",
       "    <tr>\n",
       "      <th>270</th>\n",
       "      <td>SAMSUNG Series 5 DV90TA040AX/EU 9 kg Heat Pump...</td>\n",
       "      <td>Tumble Dryers</td>\n",
       "      <td>699.0</td>\n",
       "      <td>3.7</td>\n",
       "      <td>9.0</td>\n",
       "    </tr>\n",
       "    <tr>\n",
       "      <th>271</th>\n",
       "      <td>SAMSUNG Series 5 DV80TA020AX/EU 8 kg Heat Pump...</td>\n",
       "      <td>Tumble Dryers</td>\n",
       "      <td>719.0</td>\n",
       "      <td>5.0</td>\n",
       "      <td>8.0</td>\n",
       "    </tr>\n",
       "    <tr>\n",
       "      <th>272</th>\n",
       "      <td>HOTPOINT H2 D81W UK 8 kg Condenser Tumble Drye...</td>\n",
       "      <td>Tumble Dryers</td>\n",
       "      <td>289.0</td>\n",
       "      <td>4.8</td>\n",
       "      <td>8.0</td>\n",
       "    </tr>\n",
       "    <tr>\n",
       "      <th>273</th>\n",
       "      <td>SAMSUNG Series 5 DV90TA040AE/EU 9 kg Heat Pump...</td>\n",
       "      <td>Tumble Dryers</td>\n",
       "      <td>649.0</td>\n",
       "      <td>4.2</td>\n",
       "      <td>12.0</td>\n",
       "    </tr>\n",
       "    <tr>\n",
       "      <th>274</th>\n",
       "      <td>HOTPOINT H3 D81WB UK 8 kg Condenser Tumble Dry...</td>\n",
       "      <td>Tumble Dryers</td>\n",
       "      <td>359.0</td>\n",
       "      <td>4.4</td>\n",
       "      <td>5.0</td>\n",
       "    </tr>\n",
       "  </tbody>\n",
       "</table>\n",
       "<p>275 rows × 5 columns</p>\n",
       "</div>"
      ],
      "text/plain": [
       "                                          product_name       category   price  \\\n",
       "0    HISENSE 55A7GQTUK 55\" Smart 4K Ultra HD HDR QL...             TV   449.0   \n",
       "1    LG OLED83C14LA 83\" Smart 4K Ultra HD HDR OLED ...             TV  3999.0   \n",
       "2    LG OLED65C14LB 65\" Smart 4K Ultra HD HDR OLED ...             TV  1399.0   \n",
       "3    LG OLED55A16LA 55\" Smart 4K Ultra HD HDR OLED ...             TV   719.0   \n",
       "4    HISENSE 50A6GTUK 50\" Smart 4K Ultra HD HDR LED...             TV   279.0   \n",
       "..                                                 ...            ...     ...   \n",
       "270  SAMSUNG Series 5 DV90TA040AX/EU 9 kg Heat Pump...  Tumble Dryers   699.0   \n",
       "271  SAMSUNG Series 5 DV80TA020AX/EU 8 kg Heat Pump...  Tumble Dryers   719.0   \n",
       "272  HOTPOINT H2 D81W UK 8 kg Condenser Tumble Drye...  Tumble Dryers   289.0   \n",
       "273  SAMSUNG Series 5 DV90TA040AE/EU 9 kg Heat Pump...  Tumble Dryers   649.0   \n",
       "274  HOTPOINT H3 D81WB UK 8 kg Condenser Tumble Dry...  Tumble Dryers   359.0   \n",
       "\n",
       "     customer_rating  rating_count  \n",
       "0                4.6         115.0  \n",
       "1                4.8         284.0  \n",
       "2                4.8         445.0  \n",
       "3                4.8         197.0  \n",
       "4                4.5          77.0  \n",
       "..               ...           ...  \n",
       "270              3.7           9.0  \n",
       "271              5.0           8.0  \n",
       "272              4.8           8.0  \n",
       "273              4.2          12.0  \n",
       "274              4.4           5.0  \n",
       "\n",
       "[275 rows x 5 columns]"
      ]
     },
     "execution_count": 4,
     "metadata": {},
     "output_type": "execute_result"
    }
   ],
   "source": [
    "very_products_df"
   ]
  },
  {
   "cell_type": "markdown",
   "id": "eaae45ed",
   "metadata": {},
   "source": [
    "#### Currys Products"
   ]
  },
  {
   "cell_type": "code",
   "execution_count": 5,
   "id": "98638534",
   "metadata": {},
   "outputs": [
    {
     "data": {
      "text/html": [
       "<div>\n",
       "<style scoped>\n",
       "    .dataframe tbody tr th:only-of-type {\n",
       "        vertical-align: middle;\n",
       "    }\n",
       "\n",
       "    .dataframe tbody tr th {\n",
       "        vertical-align: top;\n",
       "    }\n",
       "\n",
       "    .dataframe thead th {\n",
       "        text-align: right;\n",
       "    }\n",
       "</style>\n",
       "<table border=\"1\" class=\"dataframe\">\n",
       "  <thead>\n",
       "    <tr style=\"text-align: right;\">\n",
       "      <th></th>\n",
       "      <th>product_name</th>\n",
       "      <th>category</th>\n",
       "      <th>price</th>\n",
       "      <th>customer_rating</th>\n",
       "      <th>rating_count</th>\n",
       "    </tr>\n",
       "  </thead>\n",
       "  <tbody>\n",
       "    <tr>\n",
       "      <th>0</th>\n",
       "      <td>SAMSUNG QE50QN94AATXXU 50\" Smart 4K Ultra HD H...</td>\n",
       "      <td>TV</td>\n",
       "      <td>799.00</td>\n",
       "      <td>4.45</td>\n",
       "      <td>172.0</td>\n",
       "    </tr>\n",
       "    <tr>\n",
       "      <th>1</th>\n",
       "      <td>SAMSUNG QE65QN95AATXXU 65\" Smart 4K Ultra HD H...</td>\n",
       "      <td>TV</td>\n",
       "      <td>1499.00</td>\n",
       "      <td>4.45</td>\n",
       "      <td>142.0</td>\n",
       "    </tr>\n",
       "    <tr>\n",
       "      <th>2</th>\n",
       "      <td>LG OLED42C24LA 42\" Smart 4K Ultra HD HDR OLED ...</td>\n",
       "      <td>TV</td>\n",
       "      <td>1299.00</td>\n",
       "      <td>NaN</td>\n",
       "      <td>0.0</td>\n",
       "    </tr>\n",
       "    <tr>\n",
       "      <th>3</th>\n",
       "      <td>SAMSUNG QE55QN700ATXXU 55\" Smart 8K HDR Neo QL...</td>\n",
       "      <td>TV</td>\n",
       "      <td>1199.00</td>\n",
       "      <td>4.05</td>\n",
       "      <td>12.0</td>\n",
       "    </tr>\n",
       "    <tr>\n",
       "      <th>4</th>\n",
       "      <td>SAMSUNG The Frame QE43LS03AAUXXU 43\" Smart 4K ...</td>\n",
       "      <td>TV</td>\n",
       "      <td>699.00</td>\n",
       "      <td>4.30</td>\n",
       "      <td>128.0</td>\n",
       "    </tr>\n",
       "    <tr>\n",
       "      <th>...</th>\n",
       "      <td>...</td>\n",
       "      <td>...</td>\n",
       "      <td>...</td>\n",
       "      <td>...</td>\n",
       "      <td>...</td>\n",
       "    </tr>\n",
       "    <tr>\n",
       "      <th>5132</th>\n",
       "      <td>FRESH N REBEL Rockbox Bold XS Portable Bluetoo...</td>\n",
       "      <td>TV</td>\n",
       "      <td>38.99</td>\n",
       "      <td>4.00</td>\n",
       "      <td>1.0</td>\n",
       "    </tr>\n",
       "    <tr>\n",
       "      <th>5133</th>\n",
       "      <td>FLEXSON FLXS1FS2011EU SONOS One Floorstand Fix...</td>\n",
       "      <td>Phones</td>\n",
       "      <td>89.00</td>\n",
       "      <td>4.65</td>\n",
       "      <td>3.0</td>\n",
       "    </tr>\n",
       "    <tr>\n",
       "      <th>5134</th>\n",
       "      <td>FLEXSON S1-SPC Sonos Speaker Power Adapter - B...</td>\n",
       "      <td>Phones</td>\n",
       "      <td>9.99</td>\n",
       "      <td>NaN</td>\n",
       "      <td>0.0</td>\n",
       "    </tr>\n",
       "    <tr>\n",
       "      <th>5135</th>\n",
       "      <td>AUDIO PRO D-1 Wireless Multi-room Speaker - Black</td>\n",
       "      <td>Phones</td>\n",
       "      <td>350.00</td>\n",
       "      <td>NaN</td>\n",
       "      <td>0.0</td>\n",
       "    </tr>\n",
       "    <tr>\n",
       "      <th>5136</th>\n",
       "      <td>FLEXSON FLXSMWM1022 Sonos Move Wall Mount Fixe...</td>\n",
       "      <td>Phones</td>\n",
       "      <td>19.99</td>\n",
       "      <td>NaN</td>\n",
       "      <td>0.0</td>\n",
       "    </tr>\n",
       "  </tbody>\n",
       "</table>\n",
       "<p>5137 rows × 5 columns</p>\n",
       "</div>"
      ],
      "text/plain": [
       "                                           product_name category    price  \\\n",
       "0     SAMSUNG QE50QN94AATXXU 50\" Smart 4K Ultra HD H...       TV   799.00   \n",
       "1     SAMSUNG QE65QN95AATXXU 65\" Smart 4K Ultra HD H...       TV  1499.00   \n",
       "2     LG OLED42C24LA 42\" Smart 4K Ultra HD HDR OLED ...       TV  1299.00   \n",
       "3     SAMSUNG QE55QN700ATXXU 55\" Smart 8K HDR Neo QL...       TV  1199.00   \n",
       "4     SAMSUNG The Frame QE43LS03AAUXXU 43\" Smart 4K ...       TV   699.00   \n",
       "...                                                 ...      ...      ...   \n",
       "5132  FRESH N REBEL Rockbox Bold XS Portable Bluetoo...       TV    38.99   \n",
       "5133  FLEXSON FLXS1FS2011EU SONOS One Floorstand Fix...   Phones    89.00   \n",
       "5134  FLEXSON S1-SPC Sonos Speaker Power Adapter - B...   Phones     9.99   \n",
       "5135  AUDIO PRO D-1 Wireless Multi-room Speaker - Black   Phones   350.00   \n",
       "5136  FLEXSON FLXSMWM1022 Sonos Move Wall Mount Fixe...   Phones    19.99   \n",
       "\n",
       "      customer_rating  rating_count  \n",
       "0                4.45         172.0  \n",
       "1                4.45         142.0  \n",
       "2                 NaN           0.0  \n",
       "3                4.05          12.0  \n",
       "4                4.30         128.0  \n",
       "...               ...           ...  \n",
       "5132             4.00           1.0  \n",
       "5133             4.65           3.0  \n",
       "5134              NaN           0.0  \n",
       "5135              NaN           0.0  \n",
       "5136              NaN           0.0  \n",
       "\n",
       "[5137 rows x 5 columns]"
      ]
     },
     "execution_count": 5,
     "metadata": {},
     "output_type": "execute_result"
    }
   ],
   "source": [
    "currys_products_df"
   ]
  },
  {
   "cell_type": "markdown",
   "id": "5ad09e0a",
   "metadata": {},
   "source": [
    "## Create Database Connection"
   ]
  },
  {
   "cell_type": "code",
   "execution_count": 31,
   "id": "908367f6",
   "metadata": {
    "scrolled": false
   },
   "outputs": [],
   "source": [
    "from config import password_one\n",
    "from config import password_two"
   ]
  },
  {
   "cell_type": "code",
   "execution_count": 35,
   "id": "870322e6",
   "metadata": {},
   "outputs": [],
   "source": [
    "connection_string = (f'postgres:{password_two}@localhost:5432/products_db')\n",
    "engine = create_engine(f'postgresql://{connection_string}')"
   ]
  },
  {
   "cell_type": "code",
   "execution_count": 36,
   "id": "ed116a46",
   "metadata": {},
   "outputs": [
    {
     "name": "stderr",
     "output_type": "stream",
     "text": [
      "/Users/missshola/opt/anaconda3/envs/PythonData/lib/python3.7/site-packages/ipykernel_launcher.py:2: SADeprecationWarning: The Engine.table_names() method is deprecated and will be removed in a future release.  Please refer to Inspector.get_table_names(). (deprecated since: 1.4)\n",
      "  \n"
     ]
    },
    {
     "data": {
      "text/plain": [
       "['very_products', 'currys_products']"
      ]
     },
     "execution_count": 36,
     "metadata": {},
     "output_type": "execute_result"
    }
   ],
   "source": [
    "# Confirm tables\n",
    "engine.table_names()"
   ]
  },
  {
   "cell_type": "markdown",
   "id": "9d764272",
   "metadata": {},
   "source": [
    "## Load DataFrames into database"
   ]
  },
  {
   "cell_type": "code",
   "execution_count": 8,
   "id": "a59066bb",
   "metadata": {},
   "outputs": [],
   "source": [
    "very_products_df.to_sql(name='very', con=engine, if_exists='append', index=True)"
   ]
  },
  {
   "cell_type": "code",
   "execution_count": 9,
   "id": "2b8e51d8",
   "metadata": {},
   "outputs": [],
   "source": [
    "currys_products_df.to_sql(name='currys', con=engine, if_exists='append', index=True)"
   ]
  }
 ],
 "metadata": {
  "kernelspec": {
   "display_name": "PythonData",
   "language": "python",
   "name": "pythondata"
  },
  "language_info": {
   "codemirror_mode": {
    "name": "ipython",
    "version": 3
   },
   "file_extension": ".py",
   "mimetype": "text/x-python",
   "name": "python",
   "nbconvert_exporter": "python",
   "pygments_lexer": "ipython3",
   "version": "3.7.13"
  }
 },
 "nbformat": 4,
 "nbformat_minor": 5
}
